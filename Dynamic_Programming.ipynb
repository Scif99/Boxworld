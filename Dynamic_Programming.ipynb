{
 "cells": [
  {
   "cell_type": "code",
   "execution_count": 1,
   "metadata": {},
   "outputs": [
    {
     "name": "stdout",
     "output_type": "stream",
     "text": [
      "importing Jupyter notebook from Environments.ipynb\n"
     ]
    }
   ],
   "source": [
    "import import_ipynb\n",
    "from Environments import Boxworld_DP\n",
    "from Environments import run_experiments\n",
    "from Environments import run_single_exp\n",
    "import numpy as np\n",
    "from collections import namedtuple\n",
    "import matplotlib.pyplot as plt\n",
    "\n",
    "# First define a namedtuple to hold useful information for actions\n",
    "Action = namedtuple('Action', 'name index delta_i delta_j' )\n",
    "up = Action('up', 0, -1, 0)    \n",
    "down = Action('down', 1, 1, 0)    \n",
    "left = Action('left', 2, 0, -1)    \n",
    "right = Action('right', 3, 0, 1) \n",
    "\n",
    "# Use a dictionary to convert indices to actions using the index as a key\n",
    "# Useful for sampling actions for a given state\n",
    "index_to_actions = {}\n",
    "for action in [up, down, left, right]:\n",
    "    index_to_actions[action.index] = action \n",
    "    \n",
    "# Helpful function to convert action in string format to the action object\n",
    "str_to_actions = {}\n",
    "for action in [up,down,left,right]:\n",
    "    str_to_actions[action.name] = action"
   ]
  },
  {
   "cell_type": "code",
   "execution_count": 4,
   "metadata": {},
   "outputs": [],
   "source": [
    "class Policy_DP():\n",
    "    \n",
    "    def __init__(self,environment,gamma):\n",
    "        self.env = environment\n",
    "        self.size_env= environment.size\n",
    "        self.reward_matrix = environment.reward_matrix\n",
    "        self.transition_matrix = environment.transition_matrix\n",
    "        self.coord_to_index = environment.coord_to_index\n",
    "        self.index_pairs_to_state = environment.index_pairs_to_state\n",
    "        self.size_state_space = environment.size**4\n",
    "        \n",
    "        # Initialize policy to be a random one\n",
    "        self.probability_actions = np.ones((self.size_state_space, 4))*0.25 \n",
    "        \n",
    "        # We initialize the values to 0\n",
    "        self.values = np.zeros( self.size_state_space )   \n",
    "        \n",
    "        # Discount factor\n",
    "        self.gamma = gamma\n",
    "     \n",
    "    # Function which samples an action, given a state\n",
    "    def __call__(self,state):\n",
    "        \n",
    "        # Find the probabilities of actions for the given state\n",
    "        prob_actions = self.probability_actions[state]\n",
    "        \n",
    "        # Randomly sample index from this\n",
    "        index = np.random.choice(np.arange(prob_actions.size))\n",
    "        return index_to_actions[index].name\n",
    "    \n",
    "    \n",
    "\n",
    "    \n",
    "    # Function that uses a given policy to evaluate the value functions for each state\n",
    "    def iterative_policy_evaluation(self,n_sweeps):\n",
    "        \n",
    "        # Reset the values\n",
    "        self.values = np.zeros(self.size_state_space)\n",
    "        \n",
    "        # Then use bellman expectation equation to iteratively update values\n",
    "        for n in range(n_sweeps):\n",
    "            \n",
    "            self.values = np.sum(self.probability_actions * (self.reward_matrix + \n",
    "                                 self.gamma* np.dot(self.transition_matrix,self.values)), axis=1 )\n",
    "            \n",
    "    # ** Need to pass env in order to get current coordinates of box (in init would only get starting coords...)        \n",
    "    def display_values(self,env):\n",
    "        \n",
    "        value_matrix = np.zeros( (self.size_env,self.size_env) )\n",
    "        \n",
    "        # Get index of box coordinates\n",
    "        box_index = self.coord_to_index[env.position_box[0],env.position_box[1]]\n",
    "            \n",
    "        for i in range(1, self.size_env-1):\n",
    "                for j in range(1, self.size_env-1):\n",
    "\n",
    "                    agent_index = self.coord_to_index[i,j]\n",
    "                    state = self.index_pairs_to_state[box_index,agent_index]\n",
    "                    value_matrix[i,j] = self.values[state]\n",
    "                        \n",
    "        return value_matrix\n",
    "    \n",
    "    def greedy_improvement(self):\n",
    "        \n",
    "        # Get indices of 'best' actions\n",
    "        argmax_actions = np.argmax(self.reward_matrix + self.gamma * np.dot(self.transition_matrix,self.values), axis=1 )\n",
    "        \n",
    "        #Then update policy for each state\n",
    "        for state in range(self.size_state_space):\n",
    "            \n",
    "            greedy_index = argmax_actions[state]\n",
    "            \n",
    "            #But only update if this transition is possible!\n",
    "            if self.transition_matrix[state][greedy_index].sum()!=0:\n",
    "                \n",
    "                self.probability_actions[state,:] = 0\n",
    "                self.probability_actions[state,greedy_index] = 1\n",
    "                \n",
    "            \n",
    "    \n",
    "    #A function that iteratively evaluates and improves a policy \n",
    "    def policy_iteration(self, n_evaluations):\n",
    "        \n",
    "        self.iterative_policy_evaluation(n_evaluations)\n",
    "        self.greedy_improvement()"
   ]
  },
  {
   "cell_type": "markdown",
   "metadata": {},
   "source": [
    "# Example\n",
    "Below, we apply a single iteration of policy improvement, after 25 sweeps of policy evaluation"
   ]
  },
  {
   "cell_type": "code",
   "execution_count": 17,
   "metadata": {
    "scrolled": true
   },
   "outputs": [
    {
     "name": "stdout",
     "output_type": "stream",
     "text": [
      "X X X X X X X \n",
      "X E . . . E X \n",
      "X . . . . . X \n",
      "X . . A . . X \n",
      "X . . . . . X \n",
      "X ! . . B E X \n",
      "X X X X X X X \n",
      "\n"
     ]
    },
    {
     "data": {
      "image/png": "[encoded data removed]",
      "text/plain": [
       "<Figure size 432x288 with 1 Axes>"
      ]
     },
     "metadata": {
      "needs_background": "light"
     },
     "output_type": "display_data"
    },
    {
     "name": "stdout",
     "output_type": "stream",
     "text": [
      "up\n",
      "[[ 0.  0.  0.  0.  0.  0.  0.]\n",
      " [ 0. -6. -6. -6. -6. -6.  0.]\n",
      " [ 0. -1. -1. -1. -1. -1.  0.]\n",
      " [ 0. -1. -1. -1. -1. -1.  0.]\n",
      " [ 0. -1. -1. -1. -1. -1.  0.]\n",
      " [ 0. -1. -1. -1. -1. -1.  0.]\n",
      " [ 0.  0.  0.  0.  0.  0.  0.]]\n",
      "down\n",
      "[[  0.   0.   0.   0.   0.   0.   0.]\n",
      " [  0.  -1.  -1.  -1.  -1.  -1.   0.]\n",
      " [  0.  -1.  -1.  -1.  -1.  -1.   0.]\n",
      " [  0.  -1.  -1.  -1.  -1.  -1.   0.]\n",
      " [  0.  -1.  -1.  -1. -10.  -1.   0.]\n",
      " [  0.  -6.  -6.  -6.  -6.  -6.   0.]\n",
      " [  0.   0.   0.   0.   0.   0.   0.]]\n",
      "left\n",
      "[[ 0.  0.  0.  0.  0.  0.  0.]\n",
      " [ 0. -6. -1. -1. -1. -1.  0.]\n",
      " [ 0. -6. -1. -1. -1. -1.  0.]\n",
      " [ 0. -6. -1. -1. -1. -1.  0.]\n",
      " [ 0. -6. -1. -1. -1. -1.  0.]\n",
      " [ 0. -6. -1. -1. -1.  1.  0.]\n",
      " [ 0.  0.  0.  0.  0.  0.  0.]]\n",
      "right\n",
      "[[ 0.  0.  0.  0.  0.  0.  0.]\n",
      " [ 0. -1. -1. -1. -1. -6.  0.]\n",
      " [ 0. -1. -1. -1. -1. -6.  0.]\n",
      " [ 0. -1. -1. -1. -1. -6.  0.]\n",
      " [ 0. -1. -1. -1. -1. -6.  0.]\n",
      " [ 0. -1. -1. 50. -1. -6.  0.]\n",
      " [ 0.  0.  0.  0.  0.  0.  0.]]\n"
     ]
    }
   ],
   "source": [
    "boxworld = Boxworld_DP(7)\n",
    "boxworld.reset()\n",
    "policy = Policy_DP(boxworld,gamma=0.4)\n",
    "\n",
    "# Apply a single greedy improvement, after 25 sweeps\n",
    "for i in range(25):\n",
    "    values = policy.iterative_policy_evaluation(10)\n",
    "    policy.greedy_improvement()\n",
    "\n",
    "# Display values\n",
    "boxworld.display()\n",
    "vals = policy.display_values(boxworld)\n",
    "plt.imshow( (vals - vals.min())/(vals.max() - vals.min()) )\n",
    "plt.show()\n",
    "\n",
    "# Display rewards\n",
    "boxworld.print_reward_matrices()"
   ]
  },
  {
   "cell_type": "code",
   "execution_count": 18,
   "metadata": {
    "scrolled": true
   },
   "outputs": [
    {
     "name": "stdout",
     "output_type": "stream",
     "text": [
      "Rewards: [-87, -167, -1028, -312, -1353, 41, -1028, -2156, -857, -322] \n",
      "Max Reward: 41 \n",
      "Mean Reward: -726.9 \n",
      "Variance: 654.315894656396\n"
     ]
    }
   ],
   "source": [
    "all_rew, max_rew, mean_rew, var_rew = run_experiments(boxworld,policy,10)\n",
    "print(f\"Rewards: {all_rew} \\nMax Reward: {max_rew} \\nMean Reward: {mean_rew} \\nVariance: {var_rew}\" )"
   ]
  },
  {
   "cell_type": "markdown",
   "metadata": {},
   "source": [
    "# Improving the Policy \n",
    "\n",
    "Below, we see how policy iteration improves how well the agent performs the task. We use the mean reward over 20 experiments as measure of the agent's performance."
   ]
  },
  {
   "cell_type": "code",
   "execution_count": 20,
   "metadata": {
    "scrolled": true
   },
   "outputs": [
    {
     "name": "stdout",
     "output_type": "stream",
     "text": [
      "Time limit expired!\n",
      "0 -1295.55\n",
      "1 -702.8\n",
      "2 -819.85\n",
      "Time limit expired!\n",
      "Time limit expired!\n",
      "3 -1329.55\n",
      "4 -696.0\n",
      "5 -724.3\n",
      "6 -1280.3\n",
      "7 -932.7\n",
      "8 -725.55\n",
      "9 -1209.25\n",
      "10 -677.5\n",
      "11 -539.0\n",
      "Time limit expired!\n",
      "12 -889.0\n",
      "13 -870.85\n",
      "14 -623.1\n",
      "15 -964.65\n",
      "Time limit expired!\n",
      "16 -1082.35\n",
      "17 -691.35\n",
      "18 -585.85\n",
      "19 -1094.65\n"
     ]
    }
   ],
   "source": [
    "boxworld = Boxworld_DP(7)\n",
    "gamma = 0.4 # Expect a high gamma to be better, as agent needs to be farsighted in an environment like this\n",
    "\n",
    "policy = Policy_DP(boxworld,gamma)\n",
    "\n",
    "# Let's now see how our agent does after repeatedly improving the policy\n",
    "for n_improvements in range(20):\n",
    "    \n",
    "    values = policy.policy_iteration(n_evaluations=20)\n",
    "    \n",
    "    _, max_reward, mean_reward, var_reward = run_experiments(boxworld, policy, number_exp=20)\n",
    "    \n",
    "    print(n_improvements, mean_reward)"
   ]
  },
  {
   "cell_type": "markdown",
   "metadata": {},
   "source": [
    "## Conclusion\n",
    "\n",
    "The above results may seem strange, since there does not seem to be a clear improvement in the agent's performance. This could be due to the large variance in rewards, or even due to our choice of hyperparameters."
   ]
  },
  {
   "cell_type": "markdown",
   "metadata": {},
   "source": [
    "# Plots\n",
    "\n",
    "Below is a plot of results over a number of environment sizes. For each size n, we create n environments and perform policy iteration n times. using 10 sweeps for the evaluation step. Then we run 5 episodes on each environment and calculate the mean reward over these episodes. Finally, we plot how the average reward changes as we increase the environment size.\n",
    "\n",
    "**This time we use a higher value of gamma, as it makes sense that the agent should be relatively far-sighted in an environment like this. "
   ]
  },
  {
   "cell_type": "code",
   "execution_count": null,
   "metadata": {},
   "outputs": [],
   "source": [
    "n_environments_per_size=5\n",
    "n_runs_per_environments=5\n",
    "gamma = 0.9\n",
    "\n",
    "mean_reward = []\n",
    "std_reward = []\n",
    "    \n",
    "for size_envir in range(5,10):\n",
    "\n",
    "    # heuristics\n",
    "    n_improvement_steps = size_envir\n",
    "    n_steps_policy_eval = 10\n",
    "    \n",
    "    total_rewards = []\n",
    "\n",
    "    for n_envir in range(n_environments_per_size):\n",
    "\n",
    "        boxworld = Boxworld_DP(size_envir)\n",
    "        policy = Policy_DP(boxworld, gamma)\n",
    "        \n",
    "        for n_improvements in range(n_improvement_steps):\n",
    "    \n",
    "            policy.policy_iteration(n_steps_policy_eval)\n",
    "\n",
    "        all_total_rewards, _, _, _ = run_experiments(boxworld, policy, n_runs_per_environments)\n",
    "\n",
    "        total_rewards += all_total_rewards\n",
    "\n",
    "    mean_reward.append( np.mean(total_rewards) )\n",
    "    std_reward.append( np.std(total_rewards) )\n",
    "\n",
    "mean_reward = np.asarray(mean_reward)\n",
    "std_reward = np.asarray(std_reward)\n",
    "\n",
    "plt.plot(range(5, 10), mean_reward, 'or')\n",
    "plt.plot(range(5, 10), mean_reward, color = 'r')\n",
    "plt.fill_between(range(5, 10), mean_reward - std_reward/2, mean_reward + std_reward/2,\n",
    "             color='r', alpha=0.2)\n",
    "\n",
    "plt.xlabel('Environment size')\n",
    "plt.ylabel('Average reward')\n",
    "\n",
    "plt.show()"
   ]
  }
 ],
 "metadata": {
  "kernelspec": {
   "display_name": "Python 3",
   "language": "python",
   "name": "python3"
  },
  "language_info": {
   "codemirror_mode": {
    "name": "ipython",
    "version": 3
   },
   "file_extension": ".py",
   "mimetype": "text/x-python",
   "name": "python",
   "nbconvert_exporter": "python",
   "pygments_lexer": "ipython3",
   "version": "3.8.5"
  }
 },
 "nbformat": 4,
 "nbformat_minor": 4
}
